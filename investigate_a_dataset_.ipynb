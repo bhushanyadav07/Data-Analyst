{
  "nbformat": 4,
  "nbformat_minor": 0,
  "metadata": {
    "kernelspec": {
      "display_name": "Python [default]",
      "language": "python",
      "name": "python3"
    },
    "language_info": {
      "codemirror_mode": {
        "name": "ipython",
        "version": 3
      },
      "file_extension": ".py",
      "mimetype": "text/x-python",
      "name": "python",
      "nbconvert_exporter": "python",
      "pygments_lexer": "ipython3",
      "version": "3.5.3"
    },
    "colab": {
      "name": "investigate_a_dataset_template.ipynb",
      "provenance": [],
      "toc_visible": true
    }
  },
  "cells": [
    {
      "cell_type": "markdown",
      "metadata": {
        "id": "nCN000lwKABF",
        "colab_type": "text"
      },
      "source": [
        "# Project: Investigate a Dataset (TMDb_Movies Dataset_)\n",
        "\n",
        "## Table of Contents\n",
        "<ul>\n",
        "<li><a href=\"#intro\">Introduction</a></li>\n",
        "<li><a href=\"#wrangling\">Data Wrangling</a></li>\n",
        "<li><a href=\"#eda\">Exploratory Data Analysis</a></li>\n",
        "<li><a href=\"#conclusions\">Conclusions</a></li>\n",
        "</ul>"
      ]
    },
    {
      "cell_type": "markdown",
      "metadata": {
        "id": "egHS063iKABH",
        "colab_type": "text"
      },
      "source": [
        "<a id='intro'></a>\n",
        "## Introduction\n",
        "\n"
      ]
    },
    {
      "cell_type": "markdown",
      "metadata": {
        "id": "dQo_GZzfmcY_",
        "colab_type": "text"
      },
      "source": [
        ">**My logical Intuition behind this dataset, analyze, Investigating the observation, visualizing the graph plot on the TMDb_movie dataset.**\n",
        ">About the TMDb_movie dataset it contains more than 10,000 movies records with the features rating, revenue, cast, popularity like that.\n",
        "\\\n",
        ">In this report, I explore the following questions:\n",
        "Q1.Which movies has highest and lowest popularity based on popularity feature_.\\\n",
        "Q2.The genres popularity from the top to bottom based on the entire record.\\\n",
        "Q3.Did movies with higher vote count received a better rating in the dataset?\\\n",
        "Q4.Now find the Top 5 Directors with most number of movies with made the most profit?\\\n",
        "Q5.So now taking average profit per year and total profilt over the years?\\\n",
        "Q6.creating one more column for rating scale and checking about the rating scale?"
      ]
    },
    {
      "cell_type": "markdown",
      "metadata": {
        "id": "nK08zssnmPAD",
        "colab_type": "text"
      },
      "source": [
        "##Importing some essential dependencies/libraries"
      ]
    },
    {
      "cell_type": "code",
      "metadata": {
        "id": "6fvjr9U4KABI",
        "colab_type": "code",
        "colab": {}
      },
      "source": [
        "import pandas as pd\n",
        "import numpy as np\n",
        "from pandas import Series\n",
        "import matplotlib.pyplot as plt\n",
        "import seaborn as sns\n"
      ],
      "execution_count": 0,
      "outputs": []
    },
    {
      "cell_type": "markdown",
      "metadata": {
        "id": "2P1wnYn2KABP",
        "colab_type": "text"
      },
      "source": [
        "<a id='wrangling'></a>\n",
        "## Data Wrangling\n",
        "\n",
        ">Now i will load the data, check for cleanliness, and then trim and clean dataset for analysis.\n",
        "\n",
        "### General Properties"
      ]
    },
    {
      "cell_type": "code",
      "metadata": {
        "id": "5JoHk6xiKABQ",
        "colab_type": "code",
        "outputId": "b2b69aba-d8b8-49dc-c44c-54b2546b7292",
        "colab": {
          "base_uri": "https://localhost:8080/",
          "height": 618
        }
      },
      "source": [
        "df_tmdb = pd.read_csv('/content/tmdb-movies.csv')\n",
        "df_tmdb.tail()"
      ],
      "execution_count": 28,
      "outputs": [
        {
          "output_type": "execute_result",
          "data": {
            "text/html": [
              "<div>\n",
              "<style scoped>\n",
              "    .dataframe tbody tr th:only-of-type {\n",
              "        vertical-align: middle;\n",
              "    }\n",
              "\n",
              "    .dataframe tbody tr th {\n",
              "        vertical-align: top;\n",
              "    }\n",
              "\n",
              "    .dataframe thead th {\n",
              "        text-align: right;\n",
              "    }\n",
              "</style>\n",
              "<table border=\"1\" class=\"dataframe\">\n",
              "  <thead>\n",
              "    <tr style=\"text-align: right;\">\n",
              "      <th></th>\n",
              "      <th>id</th>\n",
              "      <th>imdb_id</th>\n",
              "      <th>popularity</th>\n",
              "      <th>budget</th>\n",
              "      <th>revenue</th>\n",
              "      <th>original_title</th>\n",
              "      <th>cast</th>\n",
              "      <th>homepage</th>\n",
              "      <th>director</th>\n",
              "      <th>tagline</th>\n",
              "      <th>keywords</th>\n",
              "      <th>overview</th>\n",
              "      <th>runtime</th>\n",
              "      <th>genres</th>\n",
              "      <th>production_companies</th>\n",
              "      <th>release_date</th>\n",
              "      <th>vote_count</th>\n",
              "      <th>vote_average</th>\n",
              "      <th>release_year</th>\n",
              "      <th>budget_adj</th>\n",
              "      <th>revenue_adj</th>\n",
              "    </tr>\n",
              "  </thead>\n",
              "  <tbody>\n",
              "    <tr>\n",
              "      <th>10861</th>\n",
              "      <td>21</td>\n",
              "      <td>tt0060371</td>\n",
              "      <td>0.080598</td>\n",
              "      <td>0</td>\n",
              "      <td>0</td>\n",
              "      <td>The Endless Summer</td>\n",
              "      <td>Michael Hynson|Robert August|Lord 'Tally Ho' B...</td>\n",
              "      <td>NaN</td>\n",
              "      <td>Bruce Brown</td>\n",
              "      <td>NaN</td>\n",
              "      <td>surfer|surfboard|surfing</td>\n",
              "      <td>The Endless Summer, by Bruce Brown, is one of ...</td>\n",
              "      <td>95</td>\n",
              "      <td>Documentary</td>\n",
              "      <td>Bruce Brown Films</td>\n",
              "      <td>6/15/66</td>\n",
              "      <td>11</td>\n",
              "      <td>7.4</td>\n",
              "      <td>1966</td>\n",
              "      <td>0.000000</td>\n",
              "      <td>0.0</td>\n",
              "    </tr>\n",
              "    <tr>\n",
              "      <th>10862</th>\n",
              "      <td>20379</td>\n",
              "      <td>tt0060472</td>\n",
              "      <td>0.065543</td>\n",
              "      <td>0</td>\n",
              "      <td>0</td>\n",
              "      <td>Grand Prix</td>\n",
              "      <td>James Garner|Eva Marie Saint|Yves Montand|Tosh...</td>\n",
              "      <td>NaN</td>\n",
              "      <td>John Frankenheimer</td>\n",
              "      <td>Cinerama sweeps YOU into a drama of speed and ...</td>\n",
              "      <td>car race|racing|formula 1</td>\n",
              "      <td>Grand Prix driver Pete Aron is fired by his te...</td>\n",
              "      <td>176</td>\n",
              "      <td>Action|Adventure|Drama</td>\n",
              "      <td>Cherokee Productions|Joel Productions|Douglas ...</td>\n",
              "      <td>12/21/66</td>\n",
              "      <td>20</td>\n",
              "      <td>5.7</td>\n",
              "      <td>1966</td>\n",
              "      <td>0.000000</td>\n",
              "      <td>0.0</td>\n",
              "    </tr>\n",
              "    <tr>\n",
              "      <th>10863</th>\n",
              "      <td>39768</td>\n",
              "      <td>tt0060161</td>\n",
              "      <td>0.065141</td>\n",
              "      <td>0</td>\n",
              "      <td>0</td>\n",
              "      <td>Beregis Avtomobilya</td>\n",
              "      <td>Innokentiy Smoktunovskiy|Oleg Efremov|Georgi Z...</td>\n",
              "      <td>NaN</td>\n",
              "      <td>Eldar Ryazanov</td>\n",
              "      <td>NaN</td>\n",
              "      <td>car|trolley|stealing car</td>\n",
              "      <td>An insurance agent who moonlights as a carthie...</td>\n",
              "      <td>94</td>\n",
              "      <td>Mystery|Comedy</td>\n",
              "      <td>Mosfilm</td>\n",
              "      <td>1/1/66</td>\n",
              "      <td>11</td>\n",
              "      <td>6.5</td>\n",
              "      <td>1966</td>\n",
              "      <td>0.000000</td>\n",
              "      <td>0.0</td>\n",
              "    </tr>\n",
              "    <tr>\n",
              "      <th>10864</th>\n",
              "      <td>21449</td>\n",
              "      <td>tt0061177</td>\n",
              "      <td>0.064317</td>\n",
              "      <td>0</td>\n",
              "      <td>0</td>\n",
              "      <td>What's Up, Tiger Lily?</td>\n",
              "      <td>Tatsuya Mihashi|Akiko Wakabayashi|Mie Hama|Joh...</td>\n",
              "      <td>NaN</td>\n",
              "      <td>Woody Allen</td>\n",
              "      <td>WOODY ALLEN STRIKES BACK!</td>\n",
              "      <td>spoof</td>\n",
              "      <td>In comic Woody Allen's film debut, he took the...</td>\n",
              "      <td>80</td>\n",
              "      <td>Action|Comedy</td>\n",
              "      <td>Benedict Pictures Corp.</td>\n",
              "      <td>11/2/66</td>\n",
              "      <td>22</td>\n",
              "      <td>5.4</td>\n",
              "      <td>1966</td>\n",
              "      <td>0.000000</td>\n",
              "      <td>0.0</td>\n",
              "    </tr>\n",
              "    <tr>\n",
              "      <th>10865</th>\n",
              "      <td>22293</td>\n",
              "      <td>tt0060666</td>\n",
              "      <td>0.035919</td>\n",
              "      <td>19000</td>\n",
              "      <td>0</td>\n",
              "      <td>Manos: The Hands of Fate</td>\n",
              "      <td>Harold P. Warren|Tom Neyman|John Reynolds|Dian...</td>\n",
              "      <td>NaN</td>\n",
              "      <td>Harold P. Warren</td>\n",
              "      <td>It's Shocking! It's Beyond Your Imagination!</td>\n",
              "      <td>fire|gun|drive|sacrifice|flashlight</td>\n",
              "      <td>A family gets lost on the road and stumbles up...</td>\n",
              "      <td>74</td>\n",
              "      <td>Horror</td>\n",
              "      <td>Norm-Iris</td>\n",
              "      <td>11/15/66</td>\n",
              "      <td>15</td>\n",
              "      <td>1.5</td>\n",
              "      <td>1966</td>\n",
              "      <td>127642.279154</td>\n",
              "      <td>0.0</td>\n",
              "    </tr>\n",
              "  </tbody>\n",
              "</table>\n",
              "</div>"
            ],
            "text/plain": [
              "          id    imdb_id  popularity  ...  release_year     budget_adj revenue_adj\n",
              "10861     21  tt0060371    0.080598  ...          1966       0.000000         0.0\n",
              "10862  20379  tt0060472    0.065543  ...          1966       0.000000         0.0\n",
              "10863  39768  tt0060161    0.065141  ...          1966       0.000000         0.0\n",
              "10864  21449  tt0061177    0.064317  ...          1966       0.000000         0.0\n",
              "10865  22293  tt0060666    0.035919  ...          1966  127642.279154         0.0\n",
              "\n",
              "[5 rows x 21 columns]"
            ]
          },
          "metadata": {
            "tags": []
          },
          "execution_count": 28
        }
      ]
    },
    {
      "cell_type": "code",
      "metadata": {
        "id": "1-y0hJNL19jR",
        "colab_type": "code",
        "outputId": "47fb647f-ac23-43b7-85e7-6a53d0015d50",
        "colab": {
          "base_uri": "https://localhost:8080/",
          "height": 34
        }
      },
      "source": [
        "df_tmdb.shape"
      ],
      "execution_count": 29,
      "outputs": [
        {
          "output_type": "execute_result",
          "data": {
            "text/plain": [
              "(10866, 21)"
            ]
          },
          "metadata": {
            "tags": []
          },
          "execution_count": 29
        }
      ]
    },
    {
      "cell_type": "code",
      "metadata": {
        "id": "USlEGzzs2EHl",
        "colab_type": "code",
        "outputId": "3bc261e4-5212-49cb-fe85-ab59901950a3",
        "colab": {
          "base_uri": "https://localhost:8080/",
          "height": 487
        }
      },
      "source": [
        "df_tmdb.info()"
      ],
      "execution_count": 30,
      "outputs": [
        {
          "output_type": "stream",
          "text": [
            "<class 'pandas.core.frame.DataFrame'>\n",
            "RangeIndex: 10866 entries, 0 to 10865\n",
            "Data columns (total 21 columns):\n",
            " #   Column                Non-Null Count  Dtype  \n",
            "---  ------                --------------  -----  \n",
            " 0   id                    10866 non-null  int64  \n",
            " 1   imdb_id               10856 non-null  object \n",
            " 2   popularity            10866 non-null  float64\n",
            " 3   budget                10866 non-null  int64  \n",
            " 4   revenue               10866 non-null  int64  \n",
            " 5   original_title        10866 non-null  object \n",
            " 6   cast                  10790 non-null  object \n",
            " 7   homepage              2936 non-null   object \n",
            " 8   director              10822 non-null  object \n",
            " 9   tagline               8042 non-null   object \n",
            " 10  keywords              9373 non-null   object \n",
            " 11  overview              10862 non-null  object \n",
            " 12  runtime               10866 non-null  int64  \n",
            " 13  genres                10843 non-null  object \n",
            " 14  production_companies  9836 non-null   object \n",
            " 15  release_date          10866 non-null  object \n",
            " 16  vote_count            10866 non-null  int64  \n",
            " 17  vote_average          10866 non-null  float64\n",
            " 18  release_year          10866 non-null  int64  \n",
            " 19  budget_adj            10866 non-null  float64\n",
            " 20  revenue_adj           10866 non-null  float64\n",
            "dtypes: float64(4), int64(6), object(11)\n",
            "memory usage: 1.7+ MB\n"
          ],
          "name": "stdout"
        }
      ]
    },
    {
      "cell_type": "code",
      "metadata": {
        "id": "NycxB-ru2KCz",
        "colab_type": "code",
        "outputId": "31bda764-3617-4baf-ce24-9f5c3c484940",
        "colab": {
          "base_uri": "https://localhost:8080/",
          "height": 386
        }
      },
      "source": [
        "#Now we finding the missing value present in the dataset\n",
        "#as we can see the missing values for each columns\n",
        "df_tmdb.isnull().sum()"
      ],
      "execution_count": 31,
      "outputs": [
        {
          "output_type": "execute_result",
          "data": {
            "text/plain": [
              "id                         0\n",
              "imdb_id                   10\n",
              "popularity                 0\n",
              "budget                     0\n",
              "revenue                    0\n",
              "original_title             0\n",
              "cast                      76\n",
              "homepage                7930\n",
              "director                  44\n",
              "tagline                 2824\n",
              "keywords                1493\n",
              "overview                   4\n",
              "runtime                    0\n",
              "genres                    23\n",
              "production_companies    1030\n",
              "release_date               0\n",
              "vote_count                 0\n",
              "vote_average               0\n",
              "release_year               0\n",
              "budget_adj                 0\n",
              "revenue_adj                0\n",
              "dtype: int64"
            ]
          },
          "metadata": {
            "tags": []
          },
          "execution_count": 31
        }
      ]
    },
    {
      "cell_type": "code",
      "metadata": {
        "id": "-FCEcPf94MWP",
        "colab_type": "code",
        "outputId": "edd64c70-6d9e-4b70-a46f-f800154ac9c0",
        "colab": {
          "base_uri": "https://localhost:8080/",
          "height": 34
        }
      },
      "source": [
        "sum(df_tmdb.duplicated())"
      ],
      "execution_count": 32,
      "outputs": [
        {
          "output_type": "execute_result",
          "data": {
            "text/plain": [
              "1"
            ]
          },
          "metadata": {
            "tags": []
          },
          "execution_count": 32
        }
      ]
    },
    {
      "cell_type": "markdown",
      "metadata": {
        "id": "uTsmb8sZ7Col",
        "colab_type": "text"
      },
      "source": [
        "> Only one dublicate we have :)"
      ]
    },
    {
      "cell_type": "code",
      "metadata": {
        "id": "6E52WbAv7I2M",
        "colab_type": "code",
        "outputId": "a51f556a-250a-4705-a70b-c4a5c928ed99",
        "colab": {
          "base_uri": "https://localhost:8080/",
          "height": 328
        }
      },
      "source": [
        "df_tmdb[df_tmdb.duplicated(keep = False)]"
      ],
      "execution_count": 33,
      "outputs": [
        {
          "output_type": "execute_result",
          "data": {
            "text/html": [
              "<div>\n",
              "<style scoped>\n",
              "    .dataframe tbody tr th:only-of-type {\n",
              "        vertical-align: middle;\n",
              "    }\n",
              "\n",
              "    .dataframe tbody tr th {\n",
              "        vertical-align: top;\n",
              "    }\n",
              "\n",
              "    .dataframe thead th {\n",
              "        text-align: right;\n",
              "    }\n",
              "</style>\n",
              "<table border=\"1\" class=\"dataframe\">\n",
              "  <thead>\n",
              "    <tr style=\"text-align: right;\">\n",
              "      <th></th>\n",
              "      <th>id</th>\n",
              "      <th>imdb_id</th>\n",
              "      <th>popularity</th>\n",
              "      <th>budget</th>\n",
              "      <th>revenue</th>\n",
              "      <th>original_title</th>\n",
              "      <th>cast</th>\n",
              "      <th>homepage</th>\n",
              "      <th>director</th>\n",
              "      <th>tagline</th>\n",
              "      <th>keywords</th>\n",
              "      <th>overview</th>\n",
              "      <th>runtime</th>\n",
              "      <th>genres</th>\n",
              "      <th>production_companies</th>\n",
              "      <th>release_date</th>\n",
              "      <th>vote_count</th>\n",
              "      <th>vote_average</th>\n",
              "      <th>release_year</th>\n",
              "      <th>budget_adj</th>\n",
              "      <th>revenue_adj</th>\n",
              "    </tr>\n",
              "  </thead>\n",
              "  <tbody>\n",
              "    <tr>\n",
              "      <th>2089</th>\n",
              "      <td>42194</td>\n",
              "      <td>tt0411951</td>\n",
              "      <td>0.59643</td>\n",
              "      <td>30000000</td>\n",
              "      <td>967000</td>\n",
              "      <td>TEKKEN</td>\n",
              "      <td>Jon Foo|Kelly Overton|Cary-Hiroyuki Tagawa|Ian...</td>\n",
              "      <td>NaN</td>\n",
              "      <td>Dwight H. Little</td>\n",
              "      <td>Survival is no game</td>\n",
              "      <td>martial arts|dystopia|based on video game|mart...</td>\n",
              "      <td>In the year of 2039, after World Wars destroy ...</td>\n",
              "      <td>92</td>\n",
              "      <td>Crime|Drama|Action|Thriller|Science Fiction</td>\n",
              "      <td>Namco|Light Song Films</td>\n",
              "      <td>3/20/10</td>\n",
              "      <td>110</td>\n",
              "      <td>5.0</td>\n",
              "      <td>2010</td>\n",
              "      <td>30000000.0</td>\n",
              "      <td>967000.0</td>\n",
              "    </tr>\n",
              "    <tr>\n",
              "      <th>2090</th>\n",
              "      <td>42194</td>\n",
              "      <td>tt0411951</td>\n",
              "      <td>0.59643</td>\n",
              "      <td>30000000</td>\n",
              "      <td>967000</td>\n",
              "      <td>TEKKEN</td>\n",
              "      <td>Jon Foo|Kelly Overton|Cary-Hiroyuki Tagawa|Ian...</td>\n",
              "      <td>NaN</td>\n",
              "      <td>Dwight H. Little</td>\n",
              "      <td>Survival is no game</td>\n",
              "      <td>martial arts|dystopia|based on video game|mart...</td>\n",
              "      <td>In the year of 2039, after World Wars destroy ...</td>\n",
              "      <td>92</td>\n",
              "      <td>Crime|Drama|Action|Thriller|Science Fiction</td>\n",
              "      <td>Namco|Light Song Films</td>\n",
              "      <td>3/20/10</td>\n",
              "      <td>110</td>\n",
              "      <td>5.0</td>\n",
              "      <td>2010</td>\n",
              "      <td>30000000.0</td>\n",
              "      <td>967000.0</td>\n",
              "    </tr>\n",
              "  </tbody>\n",
              "</table>\n",
              "</div>"
            ],
            "text/plain": [
              "         id    imdb_id  popularity  ...  release_year  budget_adj revenue_adj\n",
              "2089  42194  tt0411951     0.59643  ...          2010  30000000.0    967000.0\n",
              "2090  42194  tt0411951     0.59643  ...          2010  30000000.0    967000.0\n",
              "\n",
              "[2 rows x 21 columns]"
            ]
          },
          "metadata": {
            "tags": []
          },
          "execution_count": 33
        }
      ]
    },
    {
      "cell_type": "markdown",
      "metadata": {
        "id": "py1uTPQ77w3z",
        "colab_type": "text"
      },
      "source": [
        "> This is duplicated record available in the TMBD dataset_"
      ]
    },
    {
      "cell_type": "code",
      "metadata": {
        "id": "mtXn2jd174uL",
        "colab_type": "code",
        "outputId": "e32379f9-2c07-4add-a3aa-21a7ace54a06",
        "colab": {
          "base_uri": "https://localhost:8080/",
          "height": 1000
        }
      },
      "source": [
        "df_tmdb.hist(figsize = (16, 16))"
      ],
      "execution_count": 34,
      "outputs": [
        {
          "output_type": "execute_result",
          "data": {
            "text/plain": [
              "array([[<matplotlib.axes._subplots.AxesSubplot object at 0x7f779bd9b2b0>,\n",
              "        <matplotlib.axes._subplots.AxesSubplot object at 0x7f779bdc74e0>,\n",
              "        <matplotlib.axes._subplots.AxesSubplot object at 0x7f779bd76748>],\n",
              "       [<matplotlib.axes._subplots.AxesSubplot object at 0x7f779bd279b0>,\n",
              "        <matplotlib.axes._subplots.AxesSubplot object at 0x7f779bcd7c18>,\n",
              "        <matplotlib.axes._subplots.AxesSubplot object at 0x7f779bd0ae80>],\n",
              "       [<matplotlib.axes._subplots.AxesSubplot object at 0x7f779bcc5128>,\n",
              "        <matplotlib.axes._subplots.AxesSubplot object at 0x7f779bc77358>,\n",
              "        <matplotlib.axes._subplots.AxesSubplot object at 0x7f779bc773c8>],\n",
              "       [<matplotlib.axes._subplots.AxesSubplot object at 0x7f779bbdb860>,\n",
              "        <matplotlib.axes._subplots.AxesSubplot object at 0x7f779bc0dac8>,\n",
              "        <matplotlib.axes._subplots.AxesSubplot object at 0x7f77cbf369e8>]],\n",
              "      dtype=object)"
            ]
          },
          "metadata": {
            "tags": []
          },
          "execution_count": 34
        },
        {
          "output_type": "display_data",
          "data": {
            "image/png": "[encoded data removed]",
            "text/plain": [
              "<Figure size 1152x1152 with 12 Axes>"
            ]
          },
          "metadata": {
            "tags": [],
            "needs_background": "light"
          }
        }
      ]
    },
    {
      "cell_type": "markdown",
      "metadata": {
        "id": "EdoqdGWq8ulw",
        "colab_type": "text"
      },
      "source": [
        "**Obeservations :**\\\n",
        "1.Above graph show there are some graph are positive skewed and some are negatively skewed.\\\n",
        "2.also some columns are not important to analysis so we removing them while cleaning the data.\n",
        "3.Data is not complicated means it realtively clean.\n"
      ]
    },
    {
      "cell_type": "markdown",
      "metadata": {
        "id": "lMOtE7VeCMzA",
        "colab_type": "text"
      },
      "source": [
        "##Data Cleaning\n",
        ">1. we will clean the our tmdb dataset. fist step is drop all duplicate record, then we will deleting the unnessesary columns like\n",
        "budget, \n",
        "cast, \n",
        "homepage, \n",
        "director, \n",
        "tagline, \n",
        "keywords, \n",
        "overview, \n",
        "production_companies.\n",
        "> 2. Also dropping the zero value or filling the NAN value.\n"
      ]
    },
    {
      "cell_type": "code",
      "metadata": {
        "id": "yDc4GTOvCMHJ",
        "colab_type": "code",
        "outputId": "be7fbf59-1db0-48a0-9591-1cce76ddee89",
        "colab": {
          "base_uri": "https://localhost:8080/",
          "height": 0
        }
      },
      "source": [
        "#deleting the duplicates\n",
        "df_tmdb.drop_duplicates(keep = False, inplace = True)\n",
        "print('Duplicated values :',sum(df_tmdb.duplicated()))\n",
        "print('Checking the shape :', df_tmdb.shape)"
      ],
      "execution_count": 35,
      "outputs": [
        {
          "output_type": "stream",
          "text": [
            "Duplicated values : 0\n",
            "Checking the shape : (10864, 21)\n"
          ],
          "name": "stdout"
        }
      ]
    },
    {
      "cell_type": "code",
      "metadata": {
        "id": "lmZR5fhoG0eF",
        "colab_type": "code",
        "outputId": "69476c8b-19df-41c2-c9b1-5a4b8d0d180a",
        "colab": {
          "base_uri": "https://localhost:8080/",
          "height": 0
        }
      },
      "source": [
        "#also changing the type of the 'release date to datatime\n",
        "df_tmdb['release_date'] = pd.to_datetime(df_tmdb['release_date'])\n",
        "df_tmdb['release_date'].head()"
      ],
      "execution_count": 36,
      "outputs": [
        {
          "output_type": "execute_result",
          "data": {
            "text/plain": [
              "0   2015-06-09\n",
              "1   2015-05-13\n",
              "2   2015-03-18\n",
              "3   2015-12-15\n",
              "4   2015-04-01\n",
              "Name: release_date, dtype: datetime64[ns]"
            ]
          },
          "metadata": {
            "tags": []
          },
          "execution_count": 36
        }
      ]
    },
    {
      "cell_type": "code",
      "metadata": {
        "id": "tPbGHpklIIU4",
        "colab_type": "code",
        "outputId": "969b3af0-6acb-45fa-c886-e5bcfc0b922d",
        "colab": {
          "base_uri": "https://localhost:8080/",
          "height": 0
        }
      },
      "source": [
        "#now we going to droop the unnessary columns\n",
        "df_tmdb.drop(['id','imdb_id','homepage','tagline','keywords','overview','budget','revenue','runtime', 'production_companies'],axis=1,inplace=True)\n",
        "df_tmdb.head(3)"
      ],
      "execution_count": 37,
      "outputs": [
        {
          "output_type": "execute_result",
          "data": {
            "text/html": [
              "<div>\n",
              "<style scoped>\n",
              "    .dataframe tbody tr th:only-of-type {\n",
              "        vertical-align: middle;\n",
              "    }\n",
              "\n",
              "    .dataframe tbody tr th {\n",
              "        vertical-align: top;\n",
              "    }\n",
              "\n",
              "    .dataframe thead th {\n",
              "        text-align: right;\n",
              "    }\n",
              "</style>\n",
              "<table border=\"1\" class=\"dataframe\">\n",
              "  <thead>\n",
              "    <tr style=\"text-align: right;\">\n",
              "      <th></th>\n",
              "      <th>popularity</th>\n",
              "      <th>original_title</th>\n",
              "      <th>cast</th>\n",
              "      <th>director</th>\n",
              "      <th>genres</th>\n",
              "      <th>release_date</th>\n",
              "      <th>vote_count</th>\n",
              "      <th>vote_average</th>\n",
              "      <th>release_year</th>\n",
              "      <th>budget_adj</th>\n",
              "      <th>revenue_adj</th>\n",
              "    </tr>\n",
              "  </thead>\n",
              "  <tbody>\n",
              "    <tr>\n",
              "      <th>0</th>\n",
              "      <td>32.985763</td>\n",
              "      <td>Jurassic World</td>\n",
              "      <td>Chris Pratt|Bryce Dallas Howard|Irrfan Khan|Vi...</td>\n",
              "      <td>Colin Trevorrow</td>\n",
              "      <td>Action|Adventure|Science Fiction|Thriller</td>\n",
              "      <td>2015-06-09</td>\n",
              "      <td>5562</td>\n",
              "      <td>6.5</td>\n",
              "      <td>2015</td>\n",
              "      <td>1.379999e+08</td>\n",
              "      <td>1.392446e+09</td>\n",
              "    </tr>\n",
              "    <tr>\n",
              "      <th>1</th>\n",
              "      <td>28.419936</td>\n",
              "      <td>Mad Max: Fury Road</td>\n",
              "      <td>Tom Hardy|Charlize Theron|Hugh Keays-Byrne|Nic...</td>\n",
              "      <td>George Miller</td>\n",
              "      <td>Action|Adventure|Science Fiction|Thriller</td>\n",
              "      <td>2015-05-13</td>\n",
              "      <td>6185</td>\n",
              "      <td>7.1</td>\n",
              "      <td>2015</td>\n",
              "      <td>1.379999e+08</td>\n",
              "      <td>3.481613e+08</td>\n",
              "    </tr>\n",
              "    <tr>\n",
              "      <th>2</th>\n",
              "      <td>13.112507</td>\n",
              "      <td>Insurgent</td>\n",
              "      <td>Shailene Woodley|Theo James|Kate Winslet|Ansel...</td>\n",
              "      <td>Robert Schwentke</td>\n",
              "      <td>Adventure|Science Fiction|Thriller</td>\n",
              "      <td>2015-03-18</td>\n",
              "      <td>2480</td>\n",
              "      <td>6.3</td>\n",
              "      <td>2015</td>\n",
              "      <td>1.012000e+08</td>\n",
              "      <td>2.716190e+08</td>\n",
              "    </tr>\n",
              "  </tbody>\n",
              "</table>\n",
              "</div>"
            ],
            "text/plain": [
              "   popularity      original_title  ...    budget_adj   revenue_adj\n",
              "0   32.985763      Jurassic World  ...  1.379999e+08  1.392446e+09\n",
              "1   28.419936  Mad Max: Fury Road  ...  1.379999e+08  3.481613e+08\n",
              "2   13.112507           Insurgent  ...  1.012000e+08  2.716190e+08\n",
              "\n",
              "[3 rows x 11 columns]"
            ]
          },
          "metadata": {
            "tags": []
          },
          "execution_count": 37
        }
      ]
    },
    {
      "cell_type": "code",
      "metadata": {
        "id": "nW_glQ0jJTfX",
        "colab_type": "code",
        "colab": {}
      },
      "source": [
        "#replacing all the zeros with the NAN value\n",
        "df_tmdb = df_tmdb.replace(to_replace=0, value=np.nan)"
      ],
      "execution_count": 0,
      "outputs": []
    },
    {
      "cell_type": "code",
      "metadata": {
        "id": "LT-jmFVLKTq5",
        "colab_type": "code",
        "colab": {}
      },
      "source": [
        "#dropping all the rows with null values\n",
        "df_tmdb.dropna(how='any', axis=0, inplace=True)"
      ],
      "execution_count": 0,
      "outputs": []
    },
    {
      "cell_type": "code",
      "metadata": {
        "id": "zqJ5T-F6JTiK",
        "colab_type": "code",
        "outputId": "4ca0d70f-ed5a-4e0b-e959-f01095f62271",
        "colab": {
          "base_uri": "https://localhost:8080/",
          "height": 0
        }
      },
      "source": [
        "#checking for null value\n",
        "df_tmdb.isnull().sum().any()"
      ],
      "execution_count": 40,
      "outputs": [
        {
          "output_type": "execute_result",
          "data": {
            "text/plain": [
              "False"
            ]
          },
          "metadata": {
            "tags": []
          },
          "execution_count": 40
        }
      ]
    },
    {
      "cell_type": "code",
      "metadata": {
        "id": "tQPLIt7kK1QJ",
        "colab_type": "code",
        "outputId": "bddcdd75-f608-4926-e1c4-47d2025c1769",
        "colab": {
          "base_uri": "https://localhost:8080/",
          "height": 0
        }
      },
      "source": [
        "#right now we don't have any  missing value\n",
        "df_tmdb.describe()"
      ],
      "execution_count": 41,
      "outputs": [
        {
          "output_type": "execute_result",
          "data": {
            "text/html": [
              "<div>\n",
              "<style scoped>\n",
              "    .dataframe tbody tr th:only-of-type {\n",
              "        vertical-align: middle;\n",
              "    }\n",
              "\n",
              "    .dataframe tbody tr th {\n",
              "        vertical-align: top;\n",
              "    }\n",
              "\n",
              "    .dataframe thead th {\n",
              "        text-align: right;\n",
              "    }\n",
              "</style>\n",
              "<table border=\"1\" class=\"dataframe\">\n",
              "  <thead>\n",
              "    <tr style=\"text-align: right;\">\n",
              "      <th></th>\n",
              "      <th>popularity</th>\n",
              "      <th>vote_count</th>\n",
              "      <th>vote_average</th>\n",
              "      <th>release_year</th>\n",
              "      <th>budget_adj</th>\n",
              "      <th>revenue_adj</th>\n",
              "    </tr>\n",
              "  </thead>\n",
              "  <tbody>\n",
              "    <tr>\n",
              "      <th>count</th>\n",
              "      <td>3848.000000</td>\n",
              "      <td>3848.000000</td>\n",
              "      <td>3848.000000</td>\n",
              "      <td>3848.000000</td>\n",
              "      <td>3.848000e+03</td>\n",
              "      <td>3.848000e+03</td>\n",
              "    </tr>\n",
              "    <tr>\n",
              "      <th>mean</th>\n",
              "      <td>1.193088</td>\n",
              "      <td>528.495842</td>\n",
              "      <td>6.168997</td>\n",
              "      <td>2001.255977</td>\n",
              "      <td>4.429732e+07</td>\n",
              "      <td>1.372667e+08</td>\n",
              "    </tr>\n",
              "    <tr>\n",
              "      <th>std</th>\n",
              "      <td>1.475783</td>\n",
              "      <td>880.422193</td>\n",
              "      <td>0.794577</td>\n",
              "      <td>11.286229</td>\n",
              "      <td>4.481883e+07</td>\n",
              "      <td>2.162187e+08</td>\n",
              "    </tr>\n",
              "    <tr>\n",
              "      <th>min</th>\n",
              "      <td>0.001117</td>\n",
              "      <td>10.000000</td>\n",
              "      <td>2.200000</td>\n",
              "      <td>1960.000000</td>\n",
              "      <td>9.693980e-01</td>\n",
              "      <td>2.370705e+00</td>\n",
              "    </tr>\n",
              "    <tr>\n",
              "      <th>25%</th>\n",
              "      <td>0.463291</td>\n",
              "      <td>71.000000</td>\n",
              "      <td>5.700000</td>\n",
              "      <td>1995.000000</td>\n",
              "      <td>1.315864e+07</td>\n",
              "      <td>1.843827e+07</td>\n",
              "    </tr>\n",
              "    <tr>\n",
              "      <th>50%</th>\n",
              "      <td>0.799015</td>\n",
              "      <td>205.000000</td>\n",
              "      <td>6.200000</td>\n",
              "      <td>2004.000000</td>\n",
              "      <td>3.007926e+07</td>\n",
              "      <td>6.182197e+07</td>\n",
              "    </tr>\n",
              "    <tr>\n",
              "      <th>75%</th>\n",
              "      <td>1.374400</td>\n",
              "      <td>581.250000</td>\n",
              "      <td>6.700000</td>\n",
              "      <td>2010.000000</td>\n",
              "      <td>6.076720e+07</td>\n",
              "      <td>1.635528e+08</td>\n",
              "    </tr>\n",
              "    <tr>\n",
              "      <th>max</th>\n",
              "      <td>32.985763</td>\n",
              "      <td>9767.000000</td>\n",
              "      <td>8.400000</td>\n",
              "      <td>2015.000000</td>\n",
              "      <td>4.250000e+08</td>\n",
              "      <td>2.827124e+09</td>\n",
              "    </tr>\n",
              "  </tbody>\n",
              "</table>\n",
              "</div>"
            ],
            "text/plain": [
              "        popularity   vote_count  ...    budget_adj   revenue_adj\n",
              "count  3848.000000  3848.000000  ...  3.848000e+03  3.848000e+03\n",
              "mean      1.193088   528.495842  ...  4.429732e+07  1.372667e+08\n",
              "std       1.475783   880.422193  ...  4.481883e+07  2.162187e+08\n",
              "min       0.001117    10.000000  ...  9.693980e-01  2.370705e+00\n",
              "25%       0.463291    71.000000  ...  1.315864e+07  1.843827e+07\n",
              "50%       0.799015   205.000000  ...  3.007926e+07  6.182197e+07\n",
              "75%       1.374400   581.250000  ...  6.076720e+07  1.635528e+08\n",
              "max      32.985763  9767.000000  ...  4.250000e+08  2.827124e+09\n",
              "\n",
              "[8 rows x 6 columns]"
            ]
          },
          "metadata": {
            "tags": []
          },
          "execution_count": 41
        }
      ]
    },
    {
      "cell_type": "code",
      "metadata": {
        "id": "ld8l5kqjNy8j",
        "colab_type": "code",
        "outputId": "6f4bf341-1fa1-42da-91ce-a63fd3f68030",
        "colab": {
          "base_uri": "https://localhost:8080/",
          "height": 0
        }
      },
      "source": [
        "df_tmdb.head(3)"
      ],
      "execution_count": 42,
      "outputs": [
        {
          "output_type": "execute_result",
          "data": {
            "text/html": [
              "<div>\n",
              "<style scoped>\n",
              "    .dataframe tbody tr th:only-of-type {\n",
              "        vertical-align: middle;\n",
              "    }\n",
              "\n",
              "    .dataframe tbody tr th {\n",
              "        vertical-align: top;\n",
              "    }\n",
              "\n",
              "    .dataframe thead th {\n",
              "        text-align: right;\n",
              "    }\n",
              "</style>\n",
              "<table border=\"1\" class=\"dataframe\">\n",
              "  <thead>\n",
              "    <tr style=\"text-align: right;\">\n",
              "      <th></th>\n",
              "      <th>popularity</th>\n",
              "      <th>original_title</th>\n",
              "      <th>cast</th>\n",
              "      <th>director</th>\n",
              "      <th>genres</th>\n",
              "      <th>release_date</th>\n",
              "      <th>vote_count</th>\n",
              "      <th>vote_average</th>\n",
              "      <th>release_year</th>\n",
              "      <th>budget_adj</th>\n",
              "      <th>revenue_adj</th>\n",
              "    </tr>\n",
              "  </thead>\n",
              "  <tbody>\n",
              "    <tr>\n",
              "      <th>0</th>\n",
              "      <td>32.985763</td>\n",
              "      <td>Jurassic World</td>\n",
              "      <td>Chris Pratt|Bryce Dallas Howard|Irrfan Khan|Vi...</td>\n",
              "      <td>Colin Trevorrow</td>\n",
              "      <td>Action|Adventure|Science Fiction|Thriller</td>\n",
              "      <td>2015-06-09</td>\n",
              "      <td>5562</td>\n",
              "      <td>6.5</td>\n",
              "      <td>2015</td>\n",
              "      <td>1.379999e+08</td>\n",
              "      <td>1.392446e+09</td>\n",
              "    </tr>\n",
              "    <tr>\n",
              "      <th>1</th>\n",
              "      <td>28.419936</td>\n",
              "      <td>Mad Max: Fury Road</td>\n",
              "      <td>Tom Hardy|Charlize Theron|Hugh Keays-Byrne|Nic...</td>\n",
              "      <td>George Miller</td>\n",
              "      <td>Action|Adventure|Science Fiction|Thriller</td>\n",
              "      <td>2015-05-13</td>\n",
              "      <td>6185</td>\n",
              "      <td>7.1</td>\n",
              "      <td>2015</td>\n",
              "      <td>1.379999e+08</td>\n",
              "      <td>3.481613e+08</td>\n",
              "    </tr>\n",
              "    <tr>\n",
              "      <th>2</th>\n",
              "      <td>13.112507</td>\n",
              "      <td>Insurgent</td>\n",
              "      <td>Shailene Woodley|Theo James|Kate Winslet|Ansel...</td>\n",
              "      <td>Robert Schwentke</td>\n",
              "      <td>Adventure|Science Fiction|Thriller</td>\n",
              "      <td>2015-03-18</td>\n",
              "      <td>2480</td>\n",
              "      <td>6.3</td>\n",
              "      <td>2015</td>\n",
              "      <td>1.012000e+08</td>\n",
              "      <td>2.716190e+08</td>\n",
              "    </tr>\n",
              "  </tbody>\n",
              "</table>\n",
              "</div>"
            ],
            "text/plain": [
              "   popularity      original_title  ...    budget_adj   revenue_adj\n",
              "0   32.985763      Jurassic World  ...  1.379999e+08  1.392446e+09\n",
              "1   28.419936  Mad Max: Fury Road  ...  1.379999e+08  3.481613e+08\n",
              "2   13.112507           Insurgent  ...  1.012000e+08  2.716190e+08\n",
              "\n",
              "[3 rows x 11 columns]"
            ]
          },
          "metadata": {
            "tags": []
          },
          "execution_count": 42
        }
      ]
    },
    {
      "cell_type": "code",
      "metadata": {
        "id": "yeARJjYwQC39",
        "colab_type": "code",
        "outputId": "3c4ce728-63e3-4214-b682-e34e80bb8eae",
        "colab": {
          "base_uri": "https://localhost:8080/",
          "height": 0
        }
      },
      "source": [
        "#adding new columns in DF which is profit cal the revenue and budget\n",
        "df_tmdb['profit'] = df_tmdb['revenue_adj'] - df_tmdb['budget_adj']\n",
        "df_tmdb.head(1)"
      ],
      "execution_count": 43,
      "outputs": [
        {
          "output_type": "execute_result",
          "data": {
            "text/html": [
              "<div>\n",
              "<style scoped>\n",
              "    .dataframe tbody tr th:only-of-type {\n",
              "        vertical-align: middle;\n",
              "    }\n",
              "\n",
              "    .dataframe tbody tr th {\n",
              "        vertical-align: top;\n",
              "    }\n",
              "\n",
              "    .dataframe thead th {\n",
              "        text-align: right;\n",
              "    }\n",
              "</style>\n",
              "<table border=\"1\" class=\"dataframe\">\n",
              "  <thead>\n",
              "    <tr style=\"text-align: right;\">\n",
              "      <th></th>\n",
              "      <th>popularity</th>\n",
              "      <th>original_title</th>\n",
              "      <th>cast</th>\n",
              "      <th>director</th>\n",
              "      <th>genres</th>\n",
              "      <th>release_date</th>\n",
              "      <th>vote_count</th>\n",
              "      <th>vote_average</th>\n",
              "      <th>release_year</th>\n",
              "      <th>budget_adj</th>\n",
              "      <th>revenue_adj</th>\n",
              "      <th>profit</th>\n",
              "    </tr>\n",
              "  </thead>\n",
              "  <tbody>\n",
              "    <tr>\n",
              "      <th>0</th>\n",
              "      <td>32.985763</td>\n",
              "      <td>Jurassic World</td>\n",
              "      <td>Chris Pratt|Bryce Dallas Howard|Irrfan Khan|Vi...</td>\n",
              "      <td>Colin Trevorrow</td>\n",
              "      <td>Action|Adventure|Science Fiction|Thriller</td>\n",
              "      <td>2015-06-09</td>\n",
              "      <td>5562</td>\n",
              "      <td>6.5</td>\n",
              "      <td>2015</td>\n",
              "      <td>1.379999e+08</td>\n",
              "      <td>1.392446e+09</td>\n",
              "      <td>1.254446e+09</td>\n",
              "    </tr>\n",
              "  </tbody>\n",
              "</table>\n",
              "</div>"
            ],
            "text/plain": [
              "   popularity  original_title  ...   revenue_adj        profit\n",
              "0   32.985763  Jurassic World  ...  1.392446e+09  1.254446e+09\n",
              "\n",
              "[1 rows x 12 columns]"
            ]
          },
          "metadata": {
            "tags": []
          },
          "execution_count": 43
        }
      ]
    },
    {
      "cell_type": "code",
      "metadata": {
        "id": "qIU2WZ8hLExn",
        "colab_type": "code",
        "colab": {}
      },
      "source": [
        " df_tmdb.to_csv('clean_tmdb_df.csv', index = False)"
      ],
      "execution_count": 0,
      "outputs": []
    },
    {
      "cell_type": "markdown",
      "metadata": {
        "id": "ikKXBHY3KABc",
        "colab_type": "text"
      },
      "source": [
        "<a id='eda'></a>\n",
        "## Exploratory Data Analysis\n",
        "\n",
        "\n",
        "### Research Question 1 (Which movies has highest and lowest popularity based on popularity feature_)"
      ]
    },
    {
      "cell_type": "code",
      "metadata": {
        "id": "8M_eTymOKABX",
        "colab_type": "code",
        "outputId": "730e6764-9510-433d-90ea-439633967042",
        "colab": {
          "base_uri": "https://localhost:8080/",
          "height": 484
        }
      },
      "source": [
        "final_df = pd.read_csv('/content/clean_tmdb_df.csv')\n",
        "final_df.head()"
      ],
      "execution_count": 45,
      "outputs": [
        {
          "output_type": "execute_result",
          "data": {
            "text/html": [
              "<div>\n",
              "<style scoped>\n",
              "    .dataframe tbody tr th:only-of-type {\n",
              "        vertical-align: middle;\n",
              "    }\n",
              "\n",
              "    .dataframe tbody tr th {\n",
              "        vertical-align: top;\n",
              "    }\n",
              "\n",
              "    .dataframe thead th {\n",
              "        text-align: right;\n",
              "    }\n",
              "</style>\n",
              "<table border=\"1\" class=\"dataframe\">\n",
              "  <thead>\n",
              "    <tr style=\"text-align: right;\">\n",
              "      <th></th>\n",
              "      <th>popularity</th>\n",
              "      <th>original_title</th>\n",
              "      <th>cast</th>\n",
              "      <th>director</th>\n",
              "      <th>genres</th>\n",
              "      <th>release_date</th>\n",
              "      <th>vote_count</th>\n",
              "      <th>vote_average</th>\n",
              "      <th>release_year</th>\n",
              "      <th>budget_adj</th>\n",
              "      <th>revenue_adj</th>\n",
              "      <th>profit</th>\n",
              "    </tr>\n",
              "  </thead>\n",
              "  <tbody>\n",
              "    <tr>\n",
              "      <th>0</th>\n",
              "      <td>32.985763</td>\n",
              "      <td>Jurassic World</td>\n",
              "      <td>Chris Pratt|Bryce Dallas Howard|Irrfan Khan|Vi...</td>\n",
              "      <td>Colin Trevorrow</td>\n",
              "      <td>Action|Adventure|Science Fiction|Thriller</td>\n",
              "      <td>2015-06-09</td>\n",
              "      <td>5562</td>\n",
              "      <td>6.5</td>\n",
              "      <td>2015</td>\n",
              "      <td>1.379999e+08</td>\n",
              "      <td>1.392446e+09</td>\n",
              "      <td>1.254446e+09</td>\n",
              "    </tr>\n",
              "    <tr>\n",
              "      <th>1</th>\n",
              "      <td>28.419936</td>\n",
              "      <td>Mad Max: Fury Road</td>\n",
              "      <td>Tom Hardy|Charlize Theron|Hugh Keays-Byrne|Nic...</td>\n",
              "      <td>George Miller</td>\n",
              "      <td>Action|Adventure|Science Fiction|Thriller</td>\n",
              "      <td>2015-05-13</td>\n",
              "      <td>6185</td>\n",
              "      <td>7.1</td>\n",
              "      <td>2015</td>\n",
              "      <td>1.379999e+08</td>\n",
              "      <td>3.481613e+08</td>\n",
              "      <td>2.101614e+08</td>\n",
              "    </tr>\n",
              "    <tr>\n",
              "      <th>2</th>\n",
              "      <td>13.112507</td>\n",
              "      <td>Insurgent</td>\n",
              "      <td>Shailene Woodley|Theo James|Kate Winslet|Ansel...</td>\n",
              "      <td>Robert Schwentke</td>\n",
              "      <td>Adventure|Science Fiction|Thriller</td>\n",
              "      <td>2015-03-18</td>\n",
              "      <td>2480</td>\n",
              "      <td>6.3</td>\n",
              "      <td>2015</td>\n",
              "      <td>1.012000e+08</td>\n",
              "      <td>2.716190e+08</td>\n",
              "      <td>1.704191e+08</td>\n",
              "    </tr>\n",
              "    <tr>\n",
              "      <th>3</th>\n",
              "      <td>11.173104</td>\n",
              "      <td>Star Wars: The Force Awakens</td>\n",
              "      <td>Harrison Ford|Mark Hamill|Carrie Fisher|Adam D...</td>\n",
              "      <td>J.J. Abrams</td>\n",
              "      <td>Action|Adventure|Science Fiction|Fantasy</td>\n",
              "      <td>2015-12-15</td>\n",
              "      <td>5292</td>\n",
              "      <td>7.5</td>\n",
              "      <td>2015</td>\n",
              "      <td>1.839999e+08</td>\n",
              "      <td>1.902723e+09</td>\n",
              "      <td>1.718723e+09</td>\n",
              "    </tr>\n",
              "    <tr>\n",
              "      <th>4</th>\n",
              "      <td>9.335014</td>\n",
              "      <td>Furious 7</td>\n",
              "      <td>Vin Diesel|Paul Walker|Jason Statham|Michelle ...</td>\n",
              "      <td>James Wan</td>\n",
              "      <td>Action|Crime|Thriller</td>\n",
              "      <td>2015-04-01</td>\n",
              "      <td>2947</td>\n",
              "      <td>7.3</td>\n",
              "      <td>2015</td>\n",
              "      <td>1.747999e+08</td>\n",
              "      <td>1.385749e+09</td>\n",
              "      <td>1.210949e+09</td>\n",
              "    </tr>\n",
              "  </tbody>\n",
              "</table>\n",
              "</div>"
            ],
            "text/plain": [
              "   popularity                original_title  ...   revenue_adj        profit\n",
              "0   32.985763                Jurassic World  ...  1.392446e+09  1.254446e+09\n",
              "1   28.419936            Mad Max: Fury Road  ...  3.481613e+08  2.101614e+08\n",
              "2   13.112507                     Insurgent  ...  2.716190e+08  1.704191e+08\n",
              "3   11.173104  Star Wars: The Force Awakens  ...  1.902723e+09  1.718723e+09\n",
              "4    9.335014                     Furious 7  ...  1.385749e+09  1.210949e+09\n",
              "\n",
              "[5 rows x 12 columns]"
            ]
          },
          "metadata": {
            "tags": []
          },
          "execution_count": 45
        }
      ]
    },
    {
      "cell_type": "code",
      "metadata": {
        "id": "j1SCoxLfQulT",
        "colab_type": "code",
        "outputId": "a265ee6e-1df9-428d-a515-08a3049ab01f",
        "colab": {
          "base_uri": "https://localhost:8080/",
          "height": 50
        }
      },
      "source": [
        "lowest_value = final_df['popularity'].idxmin()\n",
        "highest_value = final_df['popularity'].idxmax()\n",
        "print('highest value in popularity',final_df['original_title'][highest_value])\n",
        "print('lowest value in popularity',final_df['original_title'][lowest_value])\n"
      ],
      "execution_count": 46,
      "outputs": [
        {
          "output_type": "stream",
          "text": [
            "highest value in popularity Jurassic World\n",
            "lowest value in popularity Born into Brothels\n"
          ],
          "name": "stdout"
        }
      ]
    },
    {
      "cell_type": "code",
      "metadata": {
        "id": "9oxP6RrAQuoz",
        "colab_type": "code",
        "outputId": "53a0b1fb-8583-443b-e536-c733fe2e0d66",
        "colab": {
          "base_uri": "https://localhost:8080/",
          "height": 402
        }
      },
      "source": [
        "high = pd.DataFrame(final_df.loc[highest_value,:])\n",
        "low = pd.DataFrame(final_df.loc[lowest_value,:])\n",
        "pd.concat([high,low],axis = 1)"
      ],
      "execution_count": 47,
      "outputs": [
        {
          "output_type": "execute_result",
          "data": {
            "text/html": [
              "<div>\n",
              "<style scoped>\n",
              "    .dataframe tbody tr th:only-of-type {\n",
              "        vertical-align: middle;\n",
              "    }\n",
              "\n",
              "    .dataframe tbody tr th {\n",
              "        vertical-align: top;\n",
              "    }\n",
              "\n",
              "    .dataframe thead th {\n",
              "        text-align: right;\n",
              "    }\n",
              "</style>\n",
              "<table border=\"1\" class=\"dataframe\">\n",
              "  <thead>\n",
              "    <tr style=\"text-align: right;\">\n",
              "      <th></th>\n",
              "      <th>0</th>\n",
              "      <th>2552</th>\n",
              "    </tr>\n",
              "  </thead>\n",
              "  <tbody>\n",
              "    <tr>\n",
              "      <th>popularity</th>\n",
              "      <td>32.9858</td>\n",
              "      <td>0.001117</td>\n",
              "    </tr>\n",
              "    <tr>\n",
              "      <th>original_title</th>\n",
              "      <td>Jurassic World</td>\n",
              "      <td>Born into Brothels</td>\n",
              "    </tr>\n",
              "    <tr>\n",
              "      <th>cast</th>\n",
              "      <td>Chris Pratt|Bryce Dallas Howard|Irrfan Khan|Vi...</td>\n",
              "      <td>Zana Briski|Avijit|Geeta Masi|Kochi|Mamuni</td>\n",
              "    </tr>\n",
              "    <tr>\n",
              "      <th>director</th>\n",
              "      <td>Colin Trevorrow</td>\n",
              "      <td>Zana Briski|Ross Kauffman</td>\n",
              "    </tr>\n",
              "    <tr>\n",
              "      <th>genres</th>\n",
              "      <td>Action|Adventure|Science Fiction|Thriller</td>\n",
              "      <td>Documentary</td>\n",
              "    </tr>\n",
              "    <tr>\n",
              "      <th>release_date</th>\n",
              "      <td>2015-06-09</td>\n",
              "      <td>2004-12-08</td>\n",
              "    </tr>\n",
              "    <tr>\n",
              "      <th>vote_count</th>\n",
              "      <td>5562</td>\n",
              "      <td>23</td>\n",
              "    </tr>\n",
              "    <tr>\n",
              "      <th>vote_average</th>\n",
              "      <td>6.5</td>\n",
              "      <td>6.4</td>\n",
              "    </tr>\n",
              "    <tr>\n",
              "      <th>release_year</th>\n",
              "      <td>2015</td>\n",
              "      <td>2004</td>\n",
              "    </tr>\n",
              "    <tr>\n",
              "      <th>budget_adj</th>\n",
              "      <td>1.38e+08</td>\n",
              "      <td>404056</td>\n",
              "    </tr>\n",
              "    <tr>\n",
              "      <th>revenue_adj</th>\n",
              "      <td>1.39245e+09</td>\n",
              "      <td>4.05795e+06</td>\n",
              "    </tr>\n",
              "    <tr>\n",
              "      <th>profit</th>\n",
              "      <td>1.25445e+09</td>\n",
              "      <td>3.65389e+06</td>\n",
              "    </tr>\n",
              "  </tbody>\n",
              "</table>\n",
              "</div>"
            ],
            "text/plain": [
              "                                                             0                                           2552\n",
              "popularity                                                32.9858                                    0.001117\n",
              "original_title                                     Jurassic World                          Born into Brothels\n",
              "cast            Chris Pratt|Bryce Dallas Howard|Irrfan Khan|Vi...  Zana Briski|Avijit|Geeta Masi|Kochi|Mamuni\n",
              "director                                          Colin Trevorrow                   Zana Briski|Ross Kauffman\n",
              "genres                  Action|Adventure|Science Fiction|Thriller                                 Documentary\n",
              "release_date                                           2015-06-09                                  2004-12-08\n",
              "vote_count                                                   5562                                          23\n",
              "vote_average                                                  6.5                                         6.4\n",
              "release_year                                                 2015                                        2004\n",
              "budget_adj                                               1.38e+08                                      404056\n",
              "revenue_adj                                           1.39245e+09                                 4.05795e+06\n",
              "profit                                                1.25445e+09                                 3.65389e+06"
            ]
          },
          "metadata": {
            "tags": []
          },
          "execution_count": 47
        }
      ]
    },
    {
      "cell_type": "markdown",
      "metadata": {
        "id": "fGqwSQdLUud5",
        "colab_type": "text"
      },
      "source": [
        "> As we can see the highest value in the dataet or record is jurassic world and the lowest value is the Born into Brothels."
      ]
    },
    {
      "cell_type": "markdown",
      "metadata": {
        "id": "nv6qqflAVaHe",
        "colab_type": "text"
      },
      "source": [
        "**Q2: The genres popularity from the top to bottom based on the entire record**"
      ]
    },
    {
      "cell_type": "code",
      "metadata": {
        "id": "CZEEurJTVZDp",
        "colab_type": "code",
        "outputId": "a0c8c4d3-fde7-44ca-b340-bc12462366e1",
        "colab": {
          "base_uri": "https://localhost:8080/",
          "height": 448
        }
      },
      "source": [
        "def popularity(x):\n",
        "    genres_data = final_df[x].str.cat(sep = '|')\n",
        "    # Spliting the genres into a Pandas Series\n",
        "    data_ = pd.Series(genres_data.split('|'))\n",
        "    count_ = data_.value_counts(ascending = False)\n",
        "    return count_\n",
        "\n",
        "#plotting the graph\n",
        "genre_count = popularity('genres') # genres column as one long string\n",
        "ax = genre_count.plot.bar(figsize=(10,5), title='TMDB dataset with respective genres')\n",
        "ax.legend()\n",
        "ax.set_xlabel(\"Genres\") #xlabel\n",
        "ax.set_ylabel(\"Total Count\") #ylabels\n",
        "plt.figure(figsize=(15,10))"
      ],
      "execution_count": 48,
      "outputs": [
        {
          "output_type": "execute_result",
          "data": {
            "text/plain": [
              "<Figure size 1080x720 with 0 Axes>"
            ]
          },
          "metadata": {
            "tags": []
          },
          "execution_count": 48
        },
        {
          "output_type": "display_data",
          "data": {
            "image/png": "[encoded data removed]",
            "text/plain": [
              "<Figure size 720x360 with 1 Axes>"
            ]
          },
          "metadata": {
            "tags": [],
            "needs_background": "light"
          }
        },
        {
          "output_type": "display_data",
          "data": {
            "text/plain": [
              "<Figure size 1080x720 with 0 Axes>"
            ]
          },
          "metadata": {
            "tags": []
          }
        }
      ]
    },
    {
      "cell_type": "markdown",
      "metadata": {
        "id": "ufgM0zyJ_S9p",
        "colab_type": "text"
      },
      "source": [
        "**Observations :**\n",
        ">The record are positively skewed most lovable section is drama, comedy, thriller and action movie people liked."
      ]
    },
    {
      "cell_type": "markdown",
      "metadata": {
        "id": "-yRJngvghEUU",
        "colab_type": "text"
      },
      "source": [
        "**Q3. Did movies with higher vote count received a better rating in the dataset?**"
      ]
    },
    {
      "cell_type": "code",
      "metadata": {
        "id": "aFOA3futKABd",
        "colab_type": "code",
        "colab": {}
      },
      "source": [
        "#Slicing the DataFrame to get 2 columns 'vote_average' and 'vote_count'\n",
        "df_vote_count = final_df.loc[:, 'vote_count' : 'vote_average']\n",
        "df_vote_count_2000 = df_vote_count[df_vote_count['vote_count'] > 2000] #considered with more than 2000 votes"
      ],
      "execution_count": 0,
      "outputs": []
    },
    {
      "cell_type": "code",
      "metadata": {
        "id": "Za8DOrpXkKpm",
        "colab_type": "code",
        "outputId": "1e235846-96dc-4577-f7bd-50f1aaf0f722",
        "colab": {
          "base_uri": "https://localhost:8080/",
          "height": 728
        }
      },
      "source": [
        "print(df_vote_count.plot(x='vote_count', y='vote_average', kind='scatter'))\n",
        "print('* '*50)\n",
        "print(df_vote_count.corr())\n",
        "print('* '*50)\n",
        "print(df_vote_count_2000.plot(x='vote_count', y='vote_average', kind='scatter'))\n",
        "print('* '*50)\n",
        "print(df_vote_count_2000.corr())"
      ],
      "execution_count": 50,
      "outputs": [
        {
          "output_type": "stream",
          "text": [
            "AxesSubplot(0.125,0.125;0.775x0.755)\n",
            "* * * * * * * * * * * * * * * * * * * * * * * * * * * * * * * * * * * * * * * * * * * * * * * * * * \n",
            "              vote_count  vote_average\n",
            "vote_count      1.000000      0.387201\n",
            "vote_average    0.387201      1.000000\n",
            "* * * * * * * * * * * * * * * * * * * * * * * * * * * * * * * * * * * * * * * * * * * * * * * * * * \n",
            "AxesSubplot(0.125,0.125;0.775x0.755)\n",
            "* * * * * * * * * * * * * * * * * * * * * * * * * * * * * * * * * * * * * * * * * * * * * * * * * * \n",
            "              vote_count  vote_average\n",
            "vote_count      1.000000      0.291649\n",
            "vote_average    0.291649      1.000000\n"
          ],
          "name": "stdout"
        },
        {
          "output_type": "display_data",
          "data": {
            "image/png": "[encoded data removed]",
            "text/plain": [
              "<Figure size 432x288 with 1 Axes>"
            ]
          },
          "metadata": {
            "tags": [],
            "needs_background": "light"
          }
        },
        {
          "output_type": "display_data",
          "data": {
            "image/png": "[encoded data removed]",
            "text/plain": [
              "<Figure size 432x288 with 1 Axes>"
            ]
          },
          "metadata": {
            "tags": [],
            "needs_background": "light"
          }
        }
      ]
    },
    {
      "cell_type": "markdown",
      "metadata": {
        "id": "bvPQD11f2H6X",
        "colab_type": "text"
      },
      "source": [
        "**Observations :**\n",
        ">1.In first graph vote_average seems to have the strongest correlation with vote_count , so it would probably do the best job predicting the value with resp to datasets.\n",
        "2. The second graph show there is less correlation bet the both. because of less record."
      ]
    },
    {
      "cell_type": "markdown",
      "metadata": {
        "id": "w1WTSXD0nDSE",
        "colab_type": "text"
      },
      "source": [
        "**Q4. Now find the Top 5 Directors with most number of movies with made the most profit**"
      ]
    },
    {
      "cell_type": "code",
      "metadata": {
        "id": "J0YQs5FWnKxV",
        "colab_type": "code",
        "outputId": "9d4cd783-c2df-4b4a-d81e-7f03c13f37f1",
        "colab": {
          "base_uri": "https://localhost:8080/",
          "height": 84
        }
      },
      "source": [
        "#list the diretors \n",
        "list_of_directors = final_df['director'].value_counts()\n",
        "list_of_directors[list_of_directors > 20].head(5)"
      ],
      "execution_count": 51,
      "outputs": [
        {
          "output_type": "execute_result",
          "data": {
            "text/plain": [
              "Steven Spielberg    27\n",
              "Clint Eastwood      24\n",
              "Ridley Scott        21\n",
              "Name: director, dtype: int64"
            ]
          },
          "metadata": {
            "tags": []
          },
          "execution_count": 51
        }
      ]
    },
    {
      "cell_type": "code",
      "metadata": {
        "id": "NDjE_-5dnYsb",
        "colab_type": "code",
        "outputId": "ff4b051e-eb0e-4a04-81d7-413d5d008508",
        "colab": {
          "base_uri": "https://localhost:8080/",
          "height": 134
        }
      },
      "source": [
        "#top five director with most number of movies\n",
        "top_directors = final_df.groupby('director')['profit'].sum().sort_values(ascending=False)[:5]\n",
        "top_directors"
      ],
      "execution_count": 52,
      "outputs": [
        {
          "output_type": "execute_result",
          "data": {
            "text/plain": [
              "director\n",
              "Steven Spielberg    1.312603e+10\n",
              "James Cameron       6.296578e+09\n",
              "George Lucas        5.844159e+09\n",
              "Peter Jackson       5.645492e+09\n",
              "Robert Zemeckis     4.335995e+09\n",
              "Name: profit, dtype: float64"
            ]
          },
          "metadata": {
            "tags": []
          },
          "execution_count": 52
        }
      ]
    },
    {
      "cell_type": "code",
      "metadata": {
        "id": "Sf8xCvUS1UGJ",
        "colab_type": "code",
        "outputId": "6958bf07-6ac7-43be-daf8-fa13dfa529d6",
        "colab": {
          "base_uri": "https://localhost:8080/",
          "height": 728
        }
      },
      "source": [
        "sns.set()\n",
        "top_directors.plot(kind='bar',figsize=(15,10))\n",
        "plt.xlabel('Directors')\n",
        "plt.ylabel('Profit')\n",
        "plt.title('Top 5 Director with Profit')"
      ],
      "execution_count": 53,
      "outputs": [
        {
          "output_type": "execute_result",
          "data": {
            "text/plain": [
              "Text(0.5, 1.0, 'Top 5 Director with Profit')"
            ]
          },
          "metadata": {
            "tags": []
          },
          "execution_count": 53
        },
        {
          "output_type": "display_data",
          "data": {
            "image/png": "[encoded data removed]",
            "text/plain": [
              "<Figure size 1080x720 with 1 Axes>"
            ]
          },
          "metadata": {
            "tags": []
          }
        }
      ]
    },
    {
      "cell_type": "markdown",
      "metadata": {
        "id": "WTd6MBeqz-iM",
        "colab_type": "text"
      },
      "source": [
        "**Obervations :**\n",
        "> 1.the record show top 5 directors with their profits in decending order."
      ]
    },
    {
      "cell_type": "markdown",
      "metadata": {
        "id": "TXvjcIOOn1Ap",
        "colab_type": "text"
      },
      "source": [
        "**Q5: So now taking average profit per year and total profilt over the years**"
      ]
    },
    {
      "cell_type": "code",
      "metadata": {
        "id": "81F0uRC8pXWV",
        "colab_type": "code",
        "outputId": "d30bbd88-305f-415d-efaa-a20e531872a6",
        "colab": {
          "base_uri": "https://localhost:8080/",
          "height": 466
        }
      },
      "source": [
        "\n",
        "plt.figure(figsize=(20,10))\n",
        "plt.subplot(1,2,1)\n",
        "\n",
        "\n",
        "plt.xlabel('Years')\n",
        "plt.ylabel('Avg profit per year ')\n",
        "plt.title('Average profit of Movies per year')\n",
        "final_df.groupby('release_year')['profit'].mean().plot() #plotting the graph using the mean\n",
        "print('* '*50)\n",
        "plt.subplot(1,2,2)\n",
        "year_profit = final_df.groupby('release_year')['profit'].sum()\n",
        "year_profit.plot(kind='line', figsize=(13,6),fontsize=12)\n",
        "plt.title(\"total profit per year of production\",fontsize=15)\n",
        "plt.xticks(rotation = 90)\n",
        "plt.xlabel('Year',fontsize=13)\n",
        "plt.ylabel(\"total profit\",fontsize= 13)\n"
      ],
      "execution_count": 54,
      "outputs": [
        {
          "output_type": "stream",
          "text": [
            "* * * * * * * * * * * * * * * * * * * * * * * * * * * * * * * * * * * * * * * * * * * * * * * * * * \n"
          ],
          "name": "stdout"
        },
        {
          "output_type": "execute_result",
          "data": {
            "text/plain": [
              "Text(0, 0.5, 'total profit')"
            ]
          },
          "metadata": {
            "tags": []
          },
          "execution_count": 54
        },
        {
          "output_type": "display_data",
          "data": {
            "image/png": "[encoded data removed]",
            "text/plain": [
              "<Figure size 936x432 with 2 Axes>"
            ]
          },
          "metadata": {
            "tags": []
          }
        }
      ]
    },
    {
      "cell_type": "markdown",
      "metadata": {
        "id": "8_PG_k6TyMIA",
        "colab_type": "text"
      },
      "source": [
        "**Obervations : **\n",
        ">1. So in first plot as we can see the highest profit locates in between 1960 to 1985.\n",
        "2. from 1985 the profit graph goes down.\n",
        "3.In the second graph we can see the total_profit difference is 0.25 and graph shows from 1960 the graph constantly increases."
      ]
    },
    {
      "cell_type": "markdown",
      "metadata": {
        "id": "2WBmmp0e3unC",
        "colab_type": "text"
      },
      "source": [
        "**Q6. creating one more column for rating scale and checking about the rating scale**"
      ]
    },
    {
      "cell_type": "code",
      "metadata": {
        "id": "orEzV3OT4tUx",
        "colab_type": "code",
        "outputId": "441fd655-ddf7-4390-a159-9fa7624418de",
        "colab": {
          "base_uri": "https://localhost:8080/",
          "height": 484
        }
      },
      "source": [
        "final_df.head()"
      ],
      "execution_count": 55,
      "outputs": [
        {
          "output_type": "execute_result",
          "data": {
            "text/html": [
              "<div>\n",
              "<style scoped>\n",
              "    .dataframe tbody tr th:only-of-type {\n",
              "        vertical-align: middle;\n",
              "    }\n",
              "\n",
              "    .dataframe tbody tr th {\n",
              "        vertical-align: top;\n",
              "    }\n",
              "\n",
              "    .dataframe thead th {\n",
              "        text-align: right;\n",
              "    }\n",
              "</style>\n",
              "<table border=\"1\" class=\"dataframe\">\n",
              "  <thead>\n",
              "    <tr style=\"text-align: right;\">\n",
              "      <th></th>\n",
              "      <th>popularity</th>\n",
              "      <th>original_title</th>\n",
              "      <th>cast</th>\n",
              "      <th>director</th>\n",
              "      <th>genres</th>\n",
              "      <th>release_date</th>\n",
              "      <th>vote_count</th>\n",
              "      <th>vote_average</th>\n",
              "      <th>release_year</th>\n",
              "      <th>budget_adj</th>\n",
              "      <th>revenue_adj</th>\n",
              "      <th>profit</th>\n",
              "    </tr>\n",
              "  </thead>\n",
              "  <tbody>\n",
              "    <tr>\n",
              "      <th>0</th>\n",
              "      <td>32.985763</td>\n",
              "      <td>Jurassic World</td>\n",
              "      <td>Chris Pratt|Bryce Dallas Howard|Irrfan Khan|Vi...</td>\n",
              "      <td>Colin Trevorrow</td>\n",
              "      <td>Action|Adventure|Science Fiction|Thriller</td>\n",
              "      <td>2015-06-09</td>\n",
              "      <td>5562</td>\n",
              "      <td>6.5</td>\n",
              "      <td>2015</td>\n",
              "      <td>1.379999e+08</td>\n",
              "      <td>1.392446e+09</td>\n",
              "      <td>1.254446e+09</td>\n",
              "    </tr>\n",
              "    <tr>\n",
              "      <th>1</th>\n",
              "      <td>28.419936</td>\n",
              "      <td>Mad Max: Fury Road</td>\n",
              "      <td>Tom Hardy|Charlize Theron|Hugh Keays-Byrne|Nic...</td>\n",
              "      <td>George Miller</td>\n",
              "      <td>Action|Adventure|Science Fiction|Thriller</td>\n",
              "      <td>2015-05-13</td>\n",
              "      <td>6185</td>\n",
              "      <td>7.1</td>\n",
              "      <td>2015</td>\n",
              "      <td>1.379999e+08</td>\n",
              "      <td>3.481613e+08</td>\n",
              "      <td>2.101614e+08</td>\n",
              "    </tr>\n",
              "    <tr>\n",
              "      <th>2</th>\n",
              "      <td>13.112507</td>\n",
              "      <td>Insurgent</td>\n",
              "      <td>Shailene Woodley|Theo James|Kate Winslet|Ansel...</td>\n",
              "      <td>Robert Schwentke</td>\n",
              "      <td>Adventure|Science Fiction|Thriller</td>\n",
              "      <td>2015-03-18</td>\n",
              "      <td>2480</td>\n",
              "      <td>6.3</td>\n",
              "      <td>2015</td>\n",
              "      <td>1.012000e+08</td>\n",
              "      <td>2.716190e+08</td>\n",
              "      <td>1.704191e+08</td>\n",
              "    </tr>\n",
              "    <tr>\n",
              "      <th>3</th>\n",
              "      <td>11.173104</td>\n",
              "      <td>Star Wars: The Force Awakens</td>\n",
              "      <td>Harrison Ford|Mark Hamill|Carrie Fisher|Adam D...</td>\n",
              "      <td>J.J. Abrams</td>\n",
              "      <td>Action|Adventure|Science Fiction|Fantasy</td>\n",
              "      <td>2015-12-15</td>\n",
              "      <td>5292</td>\n",
              "      <td>7.5</td>\n",
              "      <td>2015</td>\n",
              "      <td>1.839999e+08</td>\n",
              "      <td>1.902723e+09</td>\n",
              "      <td>1.718723e+09</td>\n",
              "    </tr>\n",
              "    <tr>\n",
              "      <th>4</th>\n",
              "      <td>9.335014</td>\n",
              "      <td>Furious 7</td>\n",
              "      <td>Vin Diesel|Paul Walker|Jason Statham|Michelle ...</td>\n",
              "      <td>James Wan</td>\n",
              "      <td>Action|Crime|Thriller</td>\n",
              "      <td>2015-04-01</td>\n",
              "      <td>2947</td>\n",
              "      <td>7.3</td>\n",
              "      <td>2015</td>\n",
              "      <td>1.747999e+08</td>\n",
              "      <td>1.385749e+09</td>\n",
              "      <td>1.210949e+09</td>\n",
              "    </tr>\n",
              "  </tbody>\n",
              "</table>\n",
              "</div>"
            ],
            "text/plain": [
              "   popularity                original_title  ...   revenue_adj        profit\n",
              "0   32.985763                Jurassic World  ...  1.392446e+09  1.254446e+09\n",
              "1   28.419936            Mad Max: Fury Road  ...  3.481613e+08  2.101614e+08\n",
              "2   13.112507                     Insurgent  ...  2.716190e+08  1.704191e+08\n",
              "3   11.173104  Star Wars: The Force Awakens  ...  1.902723e+09  1.718723e+09\n",
              "4    9.335014                     Furious 7  ...  1.385749e+09  1.210949e+09\n",
              "\n",
              "[5 rows x 12 columns]"
            ]
          },
          "metadata": {
            "tags": []
          },
          "execution_count": 55
        }
      ]
    },
    {
      "cell_type": "code",
      "metadata": {
        "id": "li8hr0S44yYO",
        "colab_type": "code",
        "outputId": "cbd8b6ff-4117-46b9-9453-0901760ab255",
        "colab": {
          "base_uri": "https://localhost:8080/",
          "height": 164
        }
      },
      "source": [
        "#rename the vote_average to imdb_score\n",
        "final_df = final_df.rename(columns = {'vote_average' : 'imdb_score'})\n",
        "final_df.head(1)"
      ],
      "execution_count": 56,
      "outputs": [
        {
          "output_type": "execute_result",
          "data": {
            "text/html": [
              "<div>\n",
              "<style scoped>\n",
              "    .dataframe tbody tr th:only-of-type {\n",
              "        vertical-align: middle;\n",
              "    }\n",
              "\n",
              "    .dataframe tbody tr th {\n",
              "        vertical-align: top;\n",
              "    }\n",
              "\n",
              "    .dataframe thead th {\n",
              "        text-align: right;\n",
              "    }\n",
              "</style>\n",
              "<table border=\"1\" class=\"dataframe\">\n",
              "  <thead>\n",
              "    <tr style=\"text-align: right;\">\n",
              "      <th></th>\n",
              "      <th>popularity</th>\n",
              "      <th>original_title</th>\n",
              "      <th>cast</th>\n",
              "      <th>director</th>\n",
              "      <th>genres</th>\n",
              "      <th>release_date</th>\n",
              "      <th>vote_count</th>\n",
              "      <th>imdb_score</th>\n",
              "      <th>release_year</th>\n",
              "      <th>budget_adj</th>\n",
              "      <th>revenue_adj</th>\n",
              "      <th>profit</th>\n",
              "    </tr>\n",
              "  </thead>\n",
              "  <tbody>\n",
              "    <tr>\n",
              "      <th>0</th>\n",
              "      <td>32.985763</td>\n",
              "      <td>Jurassic World</td>\n",
              "      <td>Chris Pratt|Bryce Dallas Howard|Irrfan Khan|Vi...</td>\n",
              "      <td>Colin Trevorrow</td>\n",
              "      <td>Action|Adventure|Science Fiction|Thriller</td>\n",
              "      <td>2015-06-09</td>\n",
              "      <td>5562</td>\n",
              "      <td>6.5</td>\n",
              "      <td>2015</td>\n",
              "      <td>1.379999e+08</td>\n",
              "      <td>1.392446e+09</td>\n",
              "      <td>1.254446e+09</td>\n",
              "    </tr>\n",
              "  </tbody>\n",
              "</table>\n",
              "</div>"
            ],
            "text/plain": [
              "   popularity  original_title  ...   revenue_adj        profit\n",
              "0   32.985763  Jurassic World  ...  1.392446e+09  1.254446e+09\n",
              "\n",
              "[1 rows x 12 columns]"
            ]
          },
          "metadata": {
            "tags": []
          },
          "execution_count": 56
        }
      ]
    },
    {
      "cell_type": "code",
      "metadata": {
        "id": "UOggJhP74VLi",
        "colab_type": "code",
        "outputId": "571ccd7d-8e3d-4c84-901c-25c21c8b61e8",
        "colab": {
          "base_uri": "https://localhost:8080/",
          "height": 341
        }
      },
      "source": [
        "edges = ([1, 2, 3, 4, 5, 6, 7, 8, 9, 10])\n",
        "names = (['humorous','terrible', 'not so good', 'nahhh', 'Average', 'Good', 'Very Good', 'Excellent', 'Awesome'])\n",
        "final_df['rating_scale'] = pd.cut(final_df['imdb_score'], bins = edges, labels = names, include_lowest=True)\n",
        "final_df.head(3)"
      ],
      "execution_count": 57,
      "outputs": [
        {
          "output_type": "execute_result",
          "data": {
            "text/html": [
              "<div>\n",
              "<style scoped>\n",
              "    .dataframe tbody tr th:only-of-type {\n",
              "        vertical-align: middle;\n",
              "    }\n",
              "\n",
              "    .dataframe tbody tr th {\n",
              "        vertical-align: top;\n",
              "    }\n",
              "\n",
              "    .dataframe thead th {\n",
              "        text-align: right;\n",
              "    }\n",
              "</style>\n",
              "<table border=\"1\" class=\"dataframe\">\n",
              "  <thead>\n",
              "    <tr style=\"text-align: right;\">\n",
              "      <th></th>\n",
              "      <th>popularity</th>\n",
              "      <th>original_title</th>\n",
              "      <th>cast</th>\n",
              "      <th>director</th>\n",
              "      <th>genres</th>\n",
              "      <th>release_date</th>\n",
              "      <th>vote_count</th>\n",
              "      <th>imdb_score</th>\n",
              "      <th>release_year</th>\n",
              "      <th>budget_adj</th>\n",
              "      <th>revenue_adj</th>\n",
              "      <th>profit</th>\n",
              "      <th>rating_scale</th>\n",
              "    </tr>\n",
              "  </thead>\n",
              "  <tbody>\n",
              "    <tr>\n",
              "      <th>0</th>\n",
              "      <td>32.985763</td>\n",
              "      <td>Jurassic World</td>\n",
              "      <td>Chris Pratt|Bryce Dallas Howard|Irrfan Khan|Vi...</td>\n",
              "      <td>Colin Trevorrow</td>\n",
              "      <td>Action|Adventure|Science Fiction|Thriller</td>\n",
              "      <td>2015-06-09</td>\n",
              "      <td>5562</td>\n",
              "      <td>6.5</td>\n",
              "      <td>2015</td>\n",
              "      <td>1.379999e+08</td>\n",
              "      <td>1.392446e+09</td>\n",
              "      <td>1.254446e+09</td>\n",
              "      <td>Good</td>\n",
              "    </tr>\n",
              "    <tr>\n",
              "      <th>1</th>\n",
              "      <td>28.419936</td>\n",
              "      <td>Mad Max: Fury Road</td>\n",
              "      <td>Tom Hardy|Charlize Theron|Hugh Keays-Byrne|Nic...</td>\n",
              "      <td>George Miller</td>\n",
              "      <td>Action|Adventure|Science Fiction|Thriller</td>\n",
              "      <td>2015-05-13</td>\n",
              "      <td>6185</td>\n",
              "      <td>7.1</td>\n",
              "      <td>2015</td>\n",
              "      <td>1.379999e+08</td>\n",
              "      <td>3.481613e+08</td>\n",
              "      <td>2.101614e+08</td>\n",
              "      <td>Very Good</td>\n",
              "    </tr>\n",
              "    <tr>\n",
              "      <th>2</th>\n",
              "      <td>13.112507</td>\n",
              "      <td>Insurgent</td>\n",
              "      <td>Shailene Woodley|Theo James|Kate Winslet|Ansel...</td>\n",
              "      <td>Robert Schwentke</td>\n",
              "      <td>Adventure|Science Fiction|Thriller</td>\n",
              "      <td>2015-03-18</td>\n",
              "      <td>2480</td>\n",
              "      <td>6.3</td>\n",
              "      <td>2015</td>\n",
              "      <td>1.012000e+08</td>\n",
              "      <td>2.716190e+08</td>\n",
              "      <td>1.704191e+08</td>\n",
              "      <td>Good</td>\n",
              "    </tr>\n",
              "  </tbody>\n",
              "</table>\n",
              "</div>"
            ],
            "text/plain": [
              "   popularity      original_title  ...        profit rating_scale\n",
              "0   32.985763      Jurassic World  ...  1.254446e+09         Good\n",
              "1   28.419936  Mad Max: Fury Road  ...  2.101614e+08    Very Good\n",
              "2   13.112507           Insurgent  ...  1.704191e+08         Good\n",
              "\n",
              "[3 rows x 13 columns]"
            ]
          },
          "metadata": {
            "tags": []
          },
          "execution_count": 57
        }
      ]
    },
    {
      "cell_type": "code",
      "metadata": {
        "id": "naGV72WZ8nSg",
        "colab_type": "code",
        "outputId": "2f1c230a-1f65-4fc8-f8d1-6bd3a9f1ae9f",
        "colab": {
          "base_uri": "https://localhost:8080/",
          "height": 168
        }
      },
      "source": [
        "final_df['imdb_score'].describe()"
      ],
      "execution_count": 58,
      "outputs": [
        {
          "output_type": "execute_result",
          "data": {
            "text/plain": [
              "count    3848.000000\n",
              "mean        6.168997\n",
              "std         0.794577\n",
              "min         2.200000\n",
              "25%         5.700000\n",
              "50%         6.200000\n",
              "75%         6.700000\n",
              "max         8.400000\n",
              "Name: imdb_score, dtype: float64"
            ]
          },
          "metadata": {
            "tags": []
          },
          "execution_count": 58
        }
      ]
    },
    {
      "cell_type": "markdown",
      "metadata": {
        "id": "AfzygOzZ9KBA",
        "colab_type": "text"
      },
      "source": [
        "**Observations :**\n",
        "> 1.ok the table show the most of the imdb_rating is in between 6 to 8.\\\n",
        "2.Also 25% of movies have very low rating and 50% having average."
      ]
    },
    {
      "cell_type": "markdown",
      "metadata": {
        "id": "ScDKTo3lKABn",
        "colab_type": "text"
      },
      "source": [
        "<a id='conclusions :'></a>\n",
        "## Conclusions\n",
        "\n",
        ">1.Finally completed all the obervation with respective features in that we first taking dataset applying data cleaning then applying the exploratory data analysis also applying some statastical approchs.\n",
        "\n",
        "2.also finding which movie has highest value in popularity is Jurassic World\n",
        "lowest value in popularity Born into Brothels.\n",
        "\n",
        "3.Then analysed the most movie have high revenue/profit.\n",
        " \n",
        "4.The find out the top record 5 directors with their profits in decending order.\n",
        "\n",
        "5.Average profit per year spike between 1960, and 1985, then it flaten. Total profit on the other hand keeps increasing over the time. this is happened due to increase number of movies everyday.\n"
      ]
    },
    {
      "cell_type": "markdown",
      "metadata": {
        "id": "dVvKoieqA_9v",
        "colab_type": "text"
      },
      "source": [
        "**Limitations:**\n",
        ">1. In the TMDB dataset i found some limitation like lots of missing value, lots of zeros in the dataset it may affect of accuracy.\n",
        "2.also for the analysis I have only considered directors, popularity, genre and revenue, profit. I have not considered the impact of production companies or budget on the revenue in the analysis."
      ]
    },
    {
      "cell_type": "markdown",
      "metadata": {
        "id": "m_52qEmiB3-z",
        "colab_type": "text"
      },
      "source": [
        "**References : **\n",
        ">1. Github\n",
        "2. Stackoverflow\n",
        "3. kaggle notebooks"
      ]
    }
  ]
}